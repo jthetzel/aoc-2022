{
 "cells": [
  {
   "cell_type": "markdown",
   "id": "aacc545f-d6bf-49ae-bc8d-9d90df9dae13",
   "metadata": {},
   "source": [
    "# day 10"
   ]
  },
  {
   "cell_type": "code",
   "execution_count": 1,
   "id": "6f2ddb96-8804-437d-9618-bd49eb0b4200",
   "metadata": {},
   "outputs": [],
   "source": [
    "path = \"10-example.txt\"\n",
    "\n",
    "with open(path, \"r\") as source:\n",
    "    data = source.readlines()"
   ]
  },
  {
   "cell_type": "code",
   "execution_count": 2,
   "id": "c3f1da7b-195d-4c77-a042-01d5d59df5cd",
   "metadata": {},
   "outputs": [
    {
     "data": {
      "text/plain": [
       "['addx 15\\n', 'addx -11\\n', 'addx 6\\n', 'addx -3\\n', 'addx 5\\n']"
      ]
     },
     "execution_count": 2,
     "metadata": {},
     "output_type": "execute_result"
    }
   ],
   "source": [
    "data[:5]"
   ]
  },
  {
   "cell_type": "code",
   "execution_count": 3,
   "id": "6d400658-3b4b-4c54-85a4-4f4d9dc4d121",
   "metadata": {},
   "outputs": [
    {
     "data": {
      "text/plain": [
       "[['addx', '15'], ['addx', '-11'], ['addx', '6'], ['addx', '-3'], ['addx', '5']]"
      ]
     },
     "execution_count": 3,
     "metadata": {},
     "output_type": "execute_result"
    }
   ],
   "source": [
    "instructions = [datum.split() for datum in data]\n",
    "instructions[:5]"
   ]
  },
  {
   "cell_type": "markdown",
   "id": "5e368f2d-3a52-4cad-a57b-c5dc27683e8d",
   "metadata": {},
   "source": [
    "## part 1"
   ]
  },
  {
   "cell_type": "code",
   "execution_count": 4,
   "id": "437db31c-f805-480e-8182-2becc948b78f",
   "metadata": {},
   "outputs": [],
   "source": [
    "def register_values(instructions, values=[1], cycle=0):\n",
    "    for instruction in instructions:\n",
    "        value = values[len(values) - 1]\n",
    "        if instruction[0] == \"noop\":\n",
    "            values.append(value)\n",
    "            cycle += 1\n",
    "            continue\n",
    "        else:\n",
    "            increment = int(instruction[1])\n",
    "            values.append(value)  # cycle 1\n",
    "            value += increment\n",
    "            values.append(value)  # cycle 2\n",
    "            cycle +=2\n",
    "            \n",
    "    return values"
   ]
  },
  {
   "cell_type": "code",
   "execution_count": 5,
   "id": "29946860-ce7a-41f7-8a73-5da9e835a66a",
   "metadata": {},
   "outputs": [],
   "source": [
    "values = register_values(instructions)"
   ]
  },
  {
   "cell_type": "code",
   "execution_count": 6,
   "id": "c6babf7d-4f22-4af7-9a63-63fa29565092",
   "metadata": {},
   "outputs": [
    {
     "data": {
      "text/plain": [
       "13140"
      ]
     },
     "execution_count": 6,
     "metadata": {},
     "output_type": "execute_result"
    }
   ],
   "source": [
    "sum([values[index - 1]*index for index in range(20, 221, 40) if index])"
   ]
  },
  {
   "cell_type": "markdown",
   "id": "f3c91d85-7b3b-4cbd-92a3-5240dfeeca29",
   "metadata": {},
   "source": [
    "## part 2"
   ]
  },
  {
   "cell_type": "code",
   "execution_count": 7,
   "id": "24ac702f-d1d3-4ad0-8af5-8c2b41f457d9",
   "metadata": {},
   "outputs": [],
   "source": [
    "import numpy as np"
   ]
  },
  {
   "cell_type": "markdown",
   "id": "d0de7d92-2950-42ab-8499-00a5aecc379c",
   "metadata": {},
   "source": [
    "## Create CRT monitor"
   ]
  },
  {
   "cell_type": "code",
   "execution_count": 8,
   "id": "f4e82229-0b21-4dc8-a94d-bde804da02f4",
   "metadata": {},
   "outputs": [
    {
     "data": {
      "text/plain": [
       "array([[0, 0, 0, 0, 0, 0, 0, 0, 0, 0, 0, 0, 0, 0, 0, 0, 0, 0, 0, 0, 0, 0, 0, 0, 0, 0, 0, 0, 0, 0, 0, 0, 0, 0, 0, 0, 0, 0, 0],\n",
       "       [0, 0, 0, 0, 0, 0, 0, 0, 0, 0, 0, 0, 0, 0, 0, 0, 0, 0, 0, 0, 0, 0, 0, 0, 0, 0, 0, 0, 0, 0, 0, 0, 0, 0, 0, 0, 0, 0, 0],\n",
       "       [0, 0, 0, 0, 0, 0, 0, 0, 0, 0, 0, 0, 0, 0, 0, 0, 0, 0, 0, 0, 0, 0, 0, 0, 0, 0, 0, 0, 0, 0, 0, 0, 0, 0, 0, 0, 0, 0, 0],\n",
       "       [0, 0, 0, 0, 0, 0, 0, 0, 0, 0, 0, 0, 0, 0, 0, 0, 0, 0, 0, 0, 0, 0, 0, 0, 0, 0, 0, 0, 0, 0, 0, 0, 0, 0, 0, 0, 0, 0, 0],\n",
       "       [0, 0, 0, 0, 0, 0, 0, 0, 0, 0, 0, 0, 0, 0, 0, 0, 0, 0, 0, 0, 0, 0, 0, 0, 0, 0, 0, 0, 0, 0, 0, 0, 0, 0, 0, 0, 0, 0, 0],\n",
       "       [0, 0, 0, 0, 0, 0, 0, 0, 0, 0, 0, 0, 0, 0, 0, 0, 0, 0, 0, 0, 0, 0, 0, 0, 0, 0, 0, 0, 0, 0, 0, 0, 0, 0, 0, 0, 0, 0, 0]])"
      ]
     },
     "execution_count": 8,
     "metadata": {},
     "output_type": "execute_result"
    }
   ],
   "source": [
    "np.set_printoptions(linewidth=200)\n",
    "crt = np.zeros((6, 39), dtype=int)\n",
    "crt"
   ]
  },
  {
   "cell_type": "markdown",
   "id": "3286dc77-83ac-4c70-9f06-e7c92c8fa4a9",
   "metadata": {},
   "source": [
    "## Paint pixels"
   ]
  },
  {
   "cell_type": "code",
   "execution_count": 9,
   "id": "8dc92e76-5805-49e7-b545-c95a972ef2d9",
   "metadata": {},
   "outputs": [],
   "source": [
    "for row in range(6):\n",
    "    for index, value in enumerate(values[(row*40):((row*40)+39)]):\n",
    "        sprite = np.arange(value - 1, value + 2)\n",
    "        pixel = int(index in sprite)\n",
    "        crt[row, index] = pixel"
   ]
  },
  {
   "cell_type": "code",
   "execution_count": 10,
   "id": "2ad2d40d-d53a-4323-ac6b-5f7a380dd687",
   "metadata": {},
   "outputs": [
    {
     "data": {
      "text/plain": [
       "array([[1, 1, 0, 0, 1, 1, 0, 0, 1, 1, 0, 0, 1, 1, 0, 0, 1, 1, 0, 0, 1, 1, 0, 0, 1, 1, 0, 0, 1, 1, 0, 0, 1, 1, 0, 0, 1, 1, 0],\n",
       "       [1, 1, 1, 0, 0, 0, 1, 1, 1, 0, 0, 0, 1, 1, 1, 0, 0, 0, 1, 1, 1, 0, 0, 0, 1, 1, 1, 0, 0, 0, 1, 1, 1, 0, 0, 0, 1, 1, 1],\n",
       "       [1, 1, 1, 1, 0, 0, 0, 0, 1, 1, 1, 1, 0, 0, 0, 0, 1, 1, 1, 1, 0, 0, 0, 0, 1, 1, 1, 1, 0, 0, 0, 0, 1, 1, 1, 1, 0, 0, 0],\n",
       "       [1, 1, 1, 1, 1, 0, 0, 0, 0, 0, 1, 1, 1, 1, 1, 0, 0, 0, 0, 0, 1, 1, 1, 1, 1, 0, 0, 0, 0, 0, 1, 1, 1, 1, 1, 0, 0, 0, 0],\n",
       "       [1, 1, 1, 1, 1, 1, 0, 0, 0, 0, 0, 0, 1, 1, 1, 1, 1, 1, 0, 0, 0, 0, 0, 0, 1, 1, 1, 1, 1, 1, 0, 0, 0, 0, 0, 0, 1, 1, 1],\n",
       "       [1, 1, 1, 1, 1, 1, 1, 0, 0, 0, 0, 0, 0, 0, 1, 1, 1, 1, 1, 1, 1, 0, 0, 0, 0, 0, 0, 0, 1, 1, 1, 1, 1, 1, 1, 0, 0, 0, 0]])"
      ]
     },
     "execution_count": 10,
     "metadata": {},
     "output_type": "execute_result"
    }
   ],
   "source": [
    "crt"
   ]
  }
 ],
 "metadata": {
  "kernelspec": {
   "display_name": "Python 3 (ipykernel)",
   "language": "python",
   "name": "python3"
  },
  "language_info": {
   "codemirror_mode": {
    "name": "ipython",
    "version": 3
   },
   "file_extension": ".py",
   "mimetype": "text/x-python",
   "name": "python",
   "nbconvert_exporter": "python",
   "pygments_lexer": "ipython3",
   "version": "3.10.5"
  }
 },
 "nbformat": 4,
 "nbformat_minor": 5
}
