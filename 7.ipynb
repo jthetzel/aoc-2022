{
 "cells": [
  {
   "cell_type": "markdown",
   "id": "d10f9445-583b-44be-b166-722c013b28f2",
   "metadata": {},
   "source": [
    "# day 7"
   ]
  },
  {
   "cell_type": "code",
   "execution_count": 1,
   "id": "ed3c5f6a-1789-40d4-a150-bbb4afeca918",
   "metadata": {},
   "outputs": [],
   "source": [
    "path = \"7-example.txt\""
   ]
  },
  {
   "cell_type": "code",
   "execution_count": 2,
   "id": "89bb3475-b4c1-4b1a-a56f-3f030ff3c98e",
   "metadata": {},
   "outputs": [],
   "source": [
    "def cd(line, directory_list=[\"root\"]):\n",
    "    \"\"\" Keep a list of nested directories.\"\"\"\n",
    "    directory = line.split(\"$ cd \")[1].strip()\n",
    "\n",
    "    if directory == \"..\":\n",
    "        directory_list.pop()\n",
    "    elif directory == \"/\":\n",
    "        directory_list = [\"root\"]\n",
    "    else:\n",
    "        directory_list.append(directory)\n",
    "\n",
    "    return directory_list"
   ]
  },
  {
   "cell_type": "code",
   "execution_count": 3,
   "id": "8496faa9-df26-4200-a737-75551783aa47",
   "metadata": {},
   "outputs": [],
   "source": [
    "def add_file(line, directory_list, directory_sizes={}):\n",
    "    \"\"\"Add file size to parent directories.\"\"\"\n",
    "    size = int(line.split(\" \")[0])\n",
    "\n",
    "    for index, directory in enumerate(directory_list):\n",
    "        directory_key = \"/\".join(directory_list[:index+1])\n",
    "\n",
    "        if directory_key not in directory_sizes.keys():\n",
    "            directory_sizes[directory_key] = size\n",
    "        else:\n",
    "            directory_sizes[directory_key] = size + directory_sizes[directory_key]\n",
    "\n",
    "    return directory_sizes"
   ]
  },
  {
   "cell_type": "markdown",
   "id": "2fd4500e-1c37-4f62-ac67-c2185c87c04c",
   "metadata": {},
   "source": [
    "## part 1"
   ]
  },
  {
   "cell_type": "code",
   "execution_count": 4,
   "id": "3c7d9941-36c1-4446-9a99-174426ac72b9",
   "metadata": {},
   "outputs": [
    {
     "name": "stdout",
     "output_type": "stream",
     "text": [
      "95437\n"
     ]
    }
   ],
   "source": [
    "directory_list = [\"root\"]\n",
    "directory_sizes = {}\n",
    "\n",
    "with open(path, \"r\") as source:\n",
    "    for line in source:\n",
    "        if line.startswith(\"$ cd \"):\n",
    "            directory_list = cd(line, directory_list)\n",
    "        elif line.startswith(\"$ ls\") or line.startswith(\"dir \"):\n",
    "            continue\n",
    "        else:\n",
    "            add_file(line, directory_list, directory_sizes)\n",
    "            \n",
    "answer1 = sum([size for size in directory_sizes.values() if size < 100000])\n",
    "print(answer1)"
   ]
  },
  {
   "cell_type": "markdown",
   "id": "d8868642-4327-4ef4-b0bc-eacce95da272",
   "metadata": {},
   "source": [
    "## part 2"
   ]
  },
  {
   "cell_type": "code",
   "execution_count": 5,
   "id": "14380802-37b2-4959-8cae-24af8202c710",
   "metadata": {},
   "outputs": [
    {
     "name": "stdout",
     "output_type": "stream",
     "text": [
      "24933642\n"
     ]
    }
   ],
   "source": [
    "total = 70000000\n",
    "required = 30000000\n",
    "available = total - directory_sizes[\"root\"]\n",
    "\n",
    "answer2 = min([value for key, value in directory_sizes.items() if required - available <= value])\n",
    "print(answer2)"
   ]
  }
 ],
 "metadata": {
  "kernelspec": {
   "display_name": "Python 3 (ipykernel)",
   "language": "python",
   "name": "python3"
  },
  "language_info": {
   "codemirror_mode": {
    "name": "ipython",
    "version": 3
   },
   "file_extension": ".py",
   "mimetype": "text/x-python",
   "name": "python",
   "nbconvert_exporter": "python",
   "pygments_lexer": "ipython3",
   "version": "3.10.5"
  }
 },
 "nbformat": 4,
 "nbformat_minor": 5
}
